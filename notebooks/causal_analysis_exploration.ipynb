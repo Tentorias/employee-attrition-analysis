{
 "cells": [
  {
   "cell_type": "code",
   "execution_count": null,
   "id": "4c413196-e972-47c5-83e0-489f3c1dedb9",
   "metadata": {},
   "outputs": [],
   "source": []
  }
 ],
 "metadata": {
  "kernelspec": {
   "display_name": "",
   "name": ""
  },
  "language_info": {
   "name": ""
  }
 },
 "nbformat": 4,
 "nbformat_minor": 5
}
