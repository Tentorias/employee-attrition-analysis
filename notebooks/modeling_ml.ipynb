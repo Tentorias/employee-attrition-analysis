{
 "cells": [
  {
   "cell_type": "markdown",
   "id": "826c9dd7-637a-4bda-b02f-11fcff501095",
   "metadata": {},
   "source": [
    "### Importar Bibliotecas"
   ]
  },
  {
   "cell_type": "code",
   "execution_count": 1,
   "id": "6eb7e17b-fb85-4134-8534-41a750c9c637",
   "metadata": {},
   "outputs": [],
   "source": [
    "import pandas as pd\n",
    "import numpy as np\n",
    "import optuna \n",
    "import shap\n",
    "import seaborn as sns\n",
    "\n",
    "from sklearn.model_selection import train_test_split\n",
    "from imblearn.over_sampling import SMOTE\n",
    "from xgboost import XGBClassifier\n",
    "from sklearn.metrics import classification_report, confusion_matrix, roc_auc_score, roc_curve, precision_score, recall_score, f1_score, precision_recall_fscore_support\n",
    "from collections import Counter\n",
    "\n",
    "import warnings\n",
    "warnings.filterwarnings('ignore')\n",
    "\n",
    "import joblib\n",
    "\n",
    "sns.set(style=\"whitegrid\")\n",
    "%matplotlib inline"
   ]
  },
  {
   "cell_type": "markdown",
   "id": "fadbe749-fc60-4fd4-b7eb-3ebe47ffb3c4",
   "metadata": {},
   "source": [
    "## Carregar Dados"
   ]
  },
  {
   "cell_type": "code",
   "execution_count": 2,
   "id": "f8b3dfeb-24e9-41de-8d8b-4bc5e5e664a2",
   "metadata": {},
   "outputs": [
    {
     "data": {
      "text/html": [
       "<div>\n",
       "<style scoped>\n",
       "    .dataframe tbody tr th:only-of-type {\n",
       "        vertical-align: middle;\n",
       "    }\n",
       "\n",
       "    .dataframe tbody tr th {\n",
       "        vertical-align: top;\n",
       "    }\n",
       "\n",
       "    .dataframe thead th {\n",
       "        text-align: right;\n",
       "    }\n",
       "</style>\n",
       "<table border=\"1\" class=\"dataframe\">\n",
       "  <thead>\n",
       "    <tr style=\"text-align: right;\">\n",
       "      <th></th>\n",
       "      <th>Age</th>\n",
       "      <th>Attrition</th>\n",
       "      <th>DailyRate</th>\n",
       "      <th>DistanceFromHome</th>\n",
       "      <th>Education</th>\n",
       "      <th>EmployeeNumber</th>\n",
       "      <th>EnvironmentSatisfaction</th>\n",
       "      <th>Gender</th>\n",
       "      <th>HourlyRate</th>\n",
       "      <th>JobInvolvement</th>\n",
       "      <th>...</th>\n",
       "      <th>JobRole_Laboratory Technician</th>\n",
       "      <th>JobRole_Manager</th>\n",
       "      <th>JobRole_Manufacturing Director</th>\n",
       "      <th>JobRole_Research Director</th>\n",
       "      <th>JobRole_Research Scientist</th>\n",
       "      <th>JobRole_Sales Executive</th>\n",
       "      <th>JobRole_Sales Representative</th>\n",
       "      <th>MaritalStatus_Married</th>\n",
       "      <th>MaritalStatus_Single</th>\n",
       "      <th>OverTime_Yes</th>\n",
       "    </tr>\n",
       "  </thead>\n",
       "  <tbody>\n",
       "    <tr>\n",
       "      <th>0</th>\n",
       "      <td>41</td>\n",
       "      <td>1</td>\n",
       "      <td>1102</td>\n",
       "      <td>1</td>\n",
       "      <td>2</td>\n",
       "      <td>1</td>\n",
       "      <td>2</td>\n",
       "      <td>0</td>\n",
       "      <td>94</td>\n",
       "      <td>3</td>\n",
       "      <td>...</td>\n",
       "      <td>False</td>\n",
       "      <td>False</td>\n",
       "      <td>False</td>\n",
       "      <td>False</td>\n",
       "      <td>False</td>\n",
       "      <td>True</td>\n",
       "      <td>False</td>\n",
       "      <td>False</td>\n",
       "      <td>True</td>\n",
       "      <td>True</td>\n",
       "    </tr>\n",
       "    <tr>\n",
       "      <th>1</th>\n",
       "      <td>49</td>\n",
       "      <td>0</td>\n",
       "      <td>279</td>\n",
       "      <td>8</td>\n",
       "      <td>1</td>\n",
       "      <td>2</td>\n",
       "      <td>3</td>\n",
       "      <td>1</td>\n",
       "      <td>61</td>\n",
       "      <td>2</td>\n",
       "      <td>...</td>\n",
       "      <td>False</td>\n",
       "      <td>False</td>\n",
       "      <td>False</td>\n",
       "      <td>False</td>\n",
       "      <td>True</td>\n",
       "      <td>False</td>\n",
       "      <td>False</td>\n",
       "      <td>True</td>\n",
       "      <td>False</td>\n",
       "      <td>False</td>\n",
       "    </tr>\n",
       "    <tr>\n",
       "      <th>2</th>\n",
       "      <td>37</td>\n",
       "      <td>1</td>\n",
       "      <td>1373</td>\n",
       "      <td>2</td>\n",
       "      <td>2</td>\n",
       "      <td>4</td>\n",
       "      <td>4</td>\n",
       "      <td>1</td>\n",
       "      <td>92</td>\n",
       "      <td>2</td>\n",
       "      <td>...</td>\n",
       "      <td>True</td>\n",
       "      <td>False</td>\n",
       "      <td>False</td>\n",
       "      <td>False</td>\n",
       "      <td>False</td>\n",
       "      <td>False</td>\n",
       "      <td>False</td>\n",
       "      <td>False</td>\n",
       "      <td>True</td>\n",
       "      <td>True</td>\n",
       "    </tr>\n",
       "    <tr>\n",
       "      <th>3</th>\n",
       "      <td>33</td>\n",
       "      <td>0</td>\n",
       "      <td>1392</td>\n",
       "      <td>3</td>\n",
       "      <td>4</td>\n",
       "      <td>5</td>\n",
       "      <td>4</td>\n",
       "      <td>0</td>\n",
       "      <td>56</td>\n",
       "      <td>3</td>\n",
       "      <td>...</td>\n",
       "      <td>False</td>\n",
       "      <td>False</td>\n",
       "      <td>False</td>\n",
       "      <td>False</td>\n",
       "      <td>True</td>\n",
       "      <td>False</td>\n",
       "      <td>False</td>\n",
       "      <td>True</td>\n",
       "      <td>False</td>\n",
       "      <td>True</td>\n",
       "    </tr>\n",
       "    <tr>\n",
       "      <th>4</th>\n",
       "      <td>27</td>\n",
       "      <td>0</td>\n",
       "      <td>591</td>\n",
       "      <td>2</td>\n",
       "      <td>1</td>\n",
       "      <td>7</td>\n",
       "      <td>1</td>\n",
       "      <td>1</td>\n",
       "      <td>40</td>\n",
       "      <td>3</td>\n",
       "      <td>...</td>\n",
       "      <td>True</td>\n",
       "      <td>False</td>\n",
       "      <td>False</td>\n",
       "      <td>False</td>\n",
       "      <td>False</td>\n",
       "      <td>False</td>\n",
       "      <td>False</td>\n",
       "      <td>True</td>\n",
       "      <td>False</td>\n",
       "      <td>False</td>\n",
       "    </tr>\n",
       "  </tbody>\n",
       "</table>\n",
       "<p>5 rows × 48 columns</p>\n",
       "</div>"
      ],
      "text/plain": [
       "   Age  Attrition  DailyRate  DistanceFromHome  Education  EmployeeNumber  \\\n",
       "0   41          1       1102                 1          2               1   \n",
       "1   49          0        279                 8          1               2   \n",
       "2   37          1       1373                 2          2               4   \n",
       "3   33          0       1392                 3          4               5   \n",
       "4   27          0        591                 2          1               7   \n",
       "\n",
       "   EnvironmentSatisfaction  Gender  HourlyRate  JobInvolvement  ...  \\\n",
       "0                        2       0          94               3  ...   \n",
       "1                        3       1          61               2  ...   \n",
       "2                        4       1          92               2  ...   \n",
       "3                        4       0          56               3  ...   \n",
       "4                        1       1          40               3  ...   \n",
       "\n",
       "   JobRole_Laboratory Technician  JobRole_Manager  \\\n",
       "0                          False            False   \n",
       "1                          False            False   \n",
       "2                           True            False   \n",
       "3                          False            False   \n",
       "4                           True            False   \n",
       "\n",
       "   JobRole_Manufacturing Director  JobRole_Research Director  \\\n",
       "0                           False                      False   \n",
       "1                           False                      False   \n",
       "2                           False                      False   \n",
       "3                           False                      False   \n",
       "4                           False                      False   \n",
       "\n",
       "   JobRole_Research Scientist  JobRole_Sales Executive  \\\n",
       "0                       False                     True   \n",
       "1                        True                    False   \n",
       "2                       False                    False   \n",
       "3                        True                    False   \n",
       "4                       False                    False   \n",
       "\n",
       "   JobRole_Sales Representative  MaritalStatus_Married  MaritalStatus_Single  \\\n",
       "0                         False                  False                  True   \n",
       "1                         False                   True                 False   \n",
       "2                         False                  False                  True   \n",
       "3                         False                   True                 False   \n",
       "4                         False                   True                 False   \n",
       "\n",
       "   OverTime_Yes  \n",
       "0          True  \n",
       "1         False  \n",
       "2          True  \n",
       "3          True  \n",
       "4         False  \n",
       "\n",
       "[5 rows x 48 columns]"
      ]
     },
     "execution_count": 2,
     "metadata": {},
     "output_type": "execute_result"
    }
   ],
   "source": [
    "df = pd.read_csv('../data/processed/employee_attrition_processed.csv')\n",
    "\n",
    "df.head()"
   ]
  },
  {
   "cell_type": "markdown",
   "id": "04714db1-918b-4049-9ee9-4353444972ec",
   "metadata": {},
   "source": [
    "tudo certo!\n",
    "\n",
    "- Attrition virou 0/1\n",
    "\n",
    "- Gender virou 0/1\n",
    "\n",
    "- OverTime, MaritalStatus, JobRole, etc., viraram dummies (True/False)"
   ]
  },
  {
   "cell_type": "markdown",
   "id": "06ac2965-e534-4b3f-bbc7-075768dec85f",
   "metadata": {},
   "source": [
    "### train_test_split"
   ]
  },
  {
   "cell_type": "code",
   "execution_count": 3,
   "id": "1e1dcd7a-5761-4960-947d-d3c9ddfdf264",
   "metadata": {},
   "outputs": [
    {
     "name": "stdout",
     "output_type": "stream",
     "text": [
      "Tamanho do treino: (1176, 47)\n",
      "Tamanho do teste: (294, 47)\n"
     ]
    }
   ],
   "source": [
    "X = df.drop('Attrition', axis=1)\n",
    "y = df['Attrition']\n",
    "\n",
    "X_train, X_test, y_train, y_test = train_test_split(\n",
    "    X, y,\n",
    "    test_size=0.2,\n",
    "    stratify=y,\n",
    "    random_state=42\n",
    ")\n",
    "\n",
    "print(f\"Tamanho do treino: {X_train.shape}\")\n",
    "print(f\"Tamanho do teste: {X_test.shape}\")"
   ]
  },
  {
   "cell_type": "markdown",
   "id": "e2c53f93-c5a9-49f5-9b47-37a60a685324",
   "metadata": {},
   "source": [
    "### Smote"
   ]
  },
  {
   "cell_type": "code",
   "execution_count": 4,
   "id": "1dff172c-ad80-40fc-8565-2847ad4eb8a5",
   "metadata": {},
   "outputs": [
    {
     "name": "stdout",
     "output_type": "stream",
     "text": [
      "Distribuição original: Attrition\n",
      "0    0.838435\n",
      "1    0.161565\n",
      "Name: proportion, dtype: float64\n",
      "Distribuição após SMOTE: Attrition\n",
      "0    0.5\n",
      "1    0.5\n",
      "Name: proportion, dtype: float64\n"
     ]
    }
   ],
   "source": [
    "smote = SMOTE(random_state=42)\n",
    "    \n",
    "X_train_resampled, y_train_resampled = smote.fit_resample(X_train, y_train)\n",
    "    \n",
    "print(\"Distribuição original:\", y_train.value_counts(normalize=True))\n",
    "print(\"Distribuição após SMOTE:\", y_train_resampled.value_counts(normalize=True))"
   ]
  },
  {
   "cell_type": "markdown",
   "id": "8094744c-82d6-4531-b770-b1c25973aa8e",
   "metadata": {},
   "source": [
    "### K-fold"
   ]
  },
  {
   "cell_type": "code",
   "execution_count": 5,
   "id": "80c43379-ec22-44eb-80da-5d3ac7dabd81",
   "metadata": {},
   "outputs": [
    {
     "ename": "NameError",
     "evalue": "name 'study' is not defined",
     "output_type": "error",
     "traceback": [
      "\u001b[1;31m---------------------------------------------------------------------------\u001b[0m",
      "\u001b[1;31mNameError\u001b[0m                                 Traceback (most recent call last)",
      "Cell \u001b[1;32mIn[5], line 9\u001b[0m\n\u001b[0;32m      1\u001b[0m neg, pos \u001b[38;5;241m=\u001b[39m Counter(y_train_resampled)[\u001b[38;5;241m0\u001b[39m], Counter(y_train_resampled)[\u001b[38;5;241m1\u001b[39m]\n\u001b[0;32m      2\u001b[0m spw \u001b[38;5;241m=\u001b[39m neg \u001b[38;5;241m/\u001b[39m pos\n\u001b[0;32m      4\u001b[0m xgb_kfold \u001b[38;5;241m=\u001b[39m XGBClassifier(\n\u001b[0;32m      5\u001b[0m     use_label_encoder\u001b[38;5;241m=\u001b[39m\u001b[38;5;28;01mFalse\u001b[39;00m,\n\u001b[0;32m      6\u001b[0m     eval_metric\u001b[38;5;241m=\u001b[39m\u001b[38;5;124m'\u001b[39m\u001b[38;5;124mlogloss\u001b[39m\u001b[38;5;124m'\u001b[39m,\n\u001b[0;32m      7\u001b[0m     random_state\u001b[38;5;241m=\u001b[39m\u001b[38;5;241m42\u001b[39m,\n\u001b[0;32m      8\u001b[0m     scale_pos_weight\u001b[38;5;241m=\u001b[39mspw,\n\u001b[1;32m----> 9\u001b[0m     \u001b[38;5;241m*\u001b[39m\u001b[38;5;241m*\u001b[39m\u001b[43mstudy\u001b[49m\u001b[38;5;241m.\u001b[39mbest_params\n\u001b[0;32m     10\u001b[0m )\n\u001b[0;32m     12\u001b[0m cv \u001b[38;5;241m=\u001b[39m StratifiedKFold(n_splits\u001b[38;5;241m=\u001b[39m\u001b[38;5;241m5\u001b[39m, shuffle\u001b[38;5;241m=\u001b[39m\u001b[38;5;28;01mTrue\u001b[39;00m, random_state\u001b[38;5;241m=\u001b[39m\u001b[38;5;241m42\u001b[39m)\n\u001b[0;32m     14\u001b[0m scores \u001b[38;5;241m=\u001b[39m cross_val_score(\n\u001b[0;32m     15\u001b[0m     xgb_kfold,\n\u001b[0;32m     16\u001b[0m     X_train_resampled, \n\u001b[1;32m   (...)\u001b[0m\n\u001b[0;32m     19\u001b[0m     cv\u001b[38;5;241m=\u001b[39mcv\n\u001b[0;32m     20\u001b[0m )\n",
      "\u001b[1;31mNameError\u001b[0m: name 'study' is not defined"
     ]
    }
   ],
   "source": [
    "neg, pos = Counter(y_train_resampled)[0], Counter(y_train_resampled)[1]\n",
    "spw = neg / pos\n",
    "\n",
    "xgb_kfold = XGBClassifier(\n",
    "    use_label_encoder=False,\n",
    "    eval_metric='logloss',\n",
    "    random_state=42,\n",
    "    scale_pos_weight=spw,\n",
    "    **study.best_params\n",
    ")\n",
    "\n",
    "cv = StratifiedKFold(n_splits=5, shuffle=True, random_state=42)\n",
    "\n",
    "scores = cross_val_score(\n",
    "    xgb_kfold,\n",
    "    X_train_resampled, \n",
    "    y_train_resampled,\n",
    "    scoring='f1',\n",
    "    cv=cv\n",
    ")\n",
    "\n",
    "print(f\"F1 CV média: {scores.mean():.4f} ± {scores.std():.4f}\")"
   ]
  },
  {
   "cell_type": "markdown",
   "id": "915d3e87-6254-40fe-9456-b0466537255a",
   "metadata": {},
   "source": [
    "modelo está performando muito bem no conjunto de treino balanceado."
   ]
  },
  {
   "cell_type": "markdown",
   "id": "94a8af0b-74b0-4b61-ad00-e8dccd86994b",
   "metadata": {},
   "source": [
    "### XGBoost"
   ]
  },
  {
   "cell_type": "code",
   "execution_count": null,
   "id": "7cafb2aa-bca7-402e-b2af-0a6c725db6b7",
   "metadata": {},
   "outputs": [
    {
     "ename": "NameError",
     "evalue": "name 'X_train_resampled' is not defined",
     "output_type": "error",
     "traceback": [
      "\u001b[1;31m---------------------------------------------------------------------------\u001b[0m",
      "\u001b[1;31mNameError\u001b[0m                                 Traceback (most recent call last)",
      "Cell \u001b[1;32mIn[12], line 2\u001b[0m\n\u001b[0;32m      1\u001b[0m xgb_model \u001b[38;5;241m=\u001b[39m XGBClassifier(use_label_encoder\u001b[38;5;241m=\u001b[39m\u001b[38;5;28;01mFalse\u001b[39;00m, eval_metric\u001b[38;5;241m=\u001b[39m\u001b[38;5;124m'\u001b[39m\u001b[38;5;124mlogloss\u001b[39m\u001b[38;5;124m'\u001b[39m, random_state\u001b[38;5;241m=\u001b[39m\u001b[38;5;241m42\u001b[39m)\n\u001b[1;32m----> 2\u001b[0m xgb_model\u001b[38;5;241m.\u001b[39mfit(\u001b[43mX_train_resampled\u001b[49m, y_train_resampled)\n",
      "\u001b[1;31mNameError\u001b[0m: name 'X_train_resampled' is not defined"
     ]
    }
   ],
   "source": [
    "xgb_model = XGBClassifier(use_label_encoder=False, eval_metric='logloss', random_state=42)\n",
    "xgb_model.fit(X_train_resampled, y_train_resampled)"
   ]
  },
  {
   "cell_type": "code",
   "execution_count": null,
   "id": "f7ee2a27-fa2f-422a-8714-779fe4c17fdd",
   "metadata": {},
   "outputs": [
    {
     "ename": "NotFittedError",
     "evalue": "need to call fit or load_model beforehand",
     "output_type": "error",
     "traceback": [
      "\u001b[1;31m---------------------------------------------------------------------------\u001b[0m",
      "\u001b[1;31mNotFittedError\u001b[0m                            Traceback (most recent call last)",
      "Cell \u001b[1;32mIn[13], line 1\u001b[0m\n\u001b[1;32m----> 1\u001b[0m y_pred_xgb \u001b[38;5;241m=\u001b[39m \u001b[43mxgb_model\u001b[49m\u001b[38;5;241;43m.\u001b[39;49m\u001b[43mpredict\u001b[49m\u001b[43m(\u001b[49m\u001b[43mX_test\u001b[49m\u001b[43m)\u001b[49m\n\u001b[0;32m      2\u001b[0m \u001b[38;5;28mprint\u001b[39m(\u001b[38;5;124m\"\u001b[39m\u001b[38;5;124m=== XGBoost ===\u001b[39m\u001b[38;5;124m\"\u001b[39m)\n\u001b[0;32m      3\u001b[0m \u001b[38;5;28mprint\u001b[39m(confusion_matrix(y_test, y_pred_xgb))\n",
      "File \u001b[1;32m~\\Documents\\employee_attrition_project\\.venv\\lib\\site-packages\\xgboost\\sklearn.py:1633\u001b[0m, in \u001b[0;36mXGBClassifier.predict\u001b[1;34m(self, X, output_margin, validate_features, base_margin, iteration_range)\u001b[0m\n\u001b[0;32m   1624\u001b[0m \u001b[38;5;28;01mdef\u001b[39;00m\u001b[38;5;250m \u001b[39m\u001b[38;5;21mpredict\u001b[39m(\n\u001b[0;32m   1625\u001b[0m     \u001b[38;5;28mself\u001b[39m,\n\u001b[0;32m   1626\u001b[0m     X: ArrayLike,\n\u001b[1;32m   (...)\u001b[0m\n\u001b[0;32m   1630\u001b[0m     iteration_range: Optional[IterationRange] \u001b[38;5;241m=\u001b[39m \u001b[38;5;28;01mNone\u001b[39;00m,\n\u001b[0;32m   1631\u001b[0m ) \u001b[38;5;241m-\u001b[39m\u001b[38;5;241m>\u001b[39m ArrayLike:\n\u001b[0;32m   1632\u001b[0m     \u001b[38;5;28;01mwith\u001b[39;00m config_context(verbosity\u001b[38;5;241m=\u001b[39m\u001b[38;5;28mself\u001b[39m\u001b[38;5;241m.\u001b[39mverbosity):\n\u001b[1;32m-> 1633\u001b[0m         class_probs \u001b[38;5;241m=\u001b[39m \u001b[38;5;28;43msuper\u001b[39;49m\u001b[43m(\u001b[49m\u001b[43m)\u001b[49m\u001b[38;5;241;43m.\u001b[39;49m\u001b[43mpredict\u001b[49m\u001b[43m(\u001b[49m\n\u001b[0;32m   1634\u001b[0m \u001b[43m            \u001b[49m\u001b[43mX\u001b[49m\u001b[38;5;241;43m=\u001b[39;49m\u001b[43mX\u001b[49m\u001b[43m,\u001b[49m\n\u001b[0;32m   1635\u001b[0m \u001b[43m            \u001b[49m\u001b[43moutput_margin\u001b[49m\u001b[38;5;241;43m=\u001b[39;49m\u001b[43moutput_margin\u001b[49m\u001b[43m,\u001b[49m\n\u001b[0;32m   1636\u001b[0m \u001b[43m            \u001b[49m\u001b[43mvalidate_features\u001b[49m\u001b[38;5;241;43m=\u001b[39;49m\u001b[43mvalidate_features\u001b[49m\u001b[43m,\u001b[49m\n\u001b[0;32m   1637\u001b[0m \u001b[43m            \u001b[49m\u001b[43mbase_margin\u001b[49m\u001b[38;5;241;43m=\u001b[39;49m\u001b[43mbase_margin\u001b[49m\u001b[43m,\u001b[49m\n\u001b[0;32m   1638\u001b[0m \u001b[43m            \u001b[49m\u001b[43miteration_range\u001b[49m\u001b[38;5;241;43m=\u001b[39;49m\u001b[43miteration_range\u001b[49m\u001b[43m,\u001b[49m\n\u001b[0;32m   1639\u001b[0m \u001b[43m        \u001b[49m\u001b[43m)\u001b[49m\n\u001b[0;32m   1640\u001b[0m         \u001b[38;5;28;01mif\u001b[39;00m output_margin:\n\u001b[0;32m   1641\u001b[0m             \u001b[38;5;66;03m# If output_margin is active, simply return the scores\u001b[39;00m\n\u001b[0;32m   1642\u001b[0m             \u001b[38;5;28;01mreturn\u001b[39;00m class_probs\n",
      "File \u001b[1;32m~\\Documents\\employee_attrition_project\\.venv\\lib\\site-packages\\xgboost\\sklearn.py:1248\u001b[0m, in \u001b[0;36mXGBModel.predict\u001b[1;34m(self, X, output_margin, validate_features, base_margin, iteration_range)\u001b[0m\n\u001b[0;32m   1246\u001b[0m \u001b[38;5;28;01mif\u001b[39;00m \u001b[38;5;28mself\u001b[39m\u001b[38;5;241m.\u001b[39m_can_use_inplace_predict():\n\u001b[0;32m   1247\u001b[0m     \u001b[38;5;28;01mtry\u001b[39;00m:\n\u001b[1;32m-> 1248\u001b[0m         predts \u001b[38;5;241m=\u001b[39m \u001b[38;5;28;43mself\u001b[39;49m\u001b[38;5;241;43m.\u001b[39;49m\u001b[43mget_booster\u001b[49m\u001b[43m(\u001b[49m\u001b[43m)\u001b[49m\u001b[38;5;241m.\u001b[39minplace_predict(\n\u001b[0;32m   1249\u001b[0m             data\u001b[38;5;241m=\u001b[39mX,\n\u001b[0;32m   1250\u001b[0m             iteration_range\u001b[38;5;241m=\u001b[39miteration_range,\n\u001b[0;32m   1251\u001b[0m             predict_type\u001b[38;5;241m=\u001b[39m\u001b[38;5;124m\"\u001b[39m\u001b[38;5;124mmargin\u001b[39m\u001b[38;5;124m\"\u001b[39m \u001b[38;5;28;01mif\u001b[39;00m output_margin \u001b[38;5;28;01melse\u001b[39;00m \u001b[38;5;124m\"\u001b[39m\u001b[38;5;124mvalue\u001b[39m\u001b[38;5;124m\"\u001b[39m,\n\u001b[0;32m   1252\u001b[0m             missing\u001b[38;5;241m=\u001b[39m\u001b[38;5;28mself\u001b[39m\u001b[38;5;241m.\u001b[39mmissing,\n\u001b[0;32m   1253\u001b[0m             base_margin\u001b[38;5;241m=\u001b[39mbase_margin,\n\u001b[0;32m   1254\u001b[0m             validate_features\u001b[38;5;241m=\u001b[39mvalidate_features,\n\u001b[0;32m   1255\u001b[0m         )\n\u001b[0;32m   1256\u001b[0m         \u001b[38;5;28;01mif\u001b[39;00m _is_cupy_alike(predts):\n\u001b[0;32m   1257\u001b[0m             \u001b[38;5;28;01mimport\u001b[39;00m\u001b[38;5;250m \u001b[39m\u001b[38;5;21;01mcupy\u001b[39;00m  \u001b[38;5;66;03m# pylint: disable=import-error\u001b[39;00m\n",
      "File \u001b[1;32m~\\Documents\\employee_attrition_project\\.venv\\lib\\site-packages\\xgboost\\sklearn.py:853\u001b[0m, in \u001b[0;36mXGBModel.get_booster\u001b[1;34m(self)\u001b[0m\n\u001b[0;32m    850\u001b[0m \u001b[38;5;28;01mif\u001b[39;00m \u001b[38;5;129;01mnot\u001b[39;00m \u001b[38;5;28mself\u001b[39m\u001b[38;5;241m.\u001b[39m__sklearn_is_fitted__():\n\u001b[0;32m    851\u001b[0m     \u001b[38;5;28;01mfrom\u001b[39;00m\u001b[38;5;250m \u001b[39m\u001b[38;5;21;01msklearn\u001b[39;00m\u001b[38;5;21;01m.\u001b[39;00m\u001b[38;5;21;01mexceptions\u001b[39;00m\u001b[38;5;250m \u001b[39m\u001b[38;5;28;01mimport\u001b[39;00m NotFittedError\n\u001b[1;32m--> 853\u001b[0m     \u001b[38;5;28;01mraise\u001b[39;00m NotFittedError(\u001b[38;5;124m\"\u001b[39m\u001b[38;5;124mneed to call fit or load_model beforehand\u001b[39m\u001b[38;5;124m\"\u001b[39m)\n\u001b[0;32m    854\u001b[0m \u001b[38;5;28;01mreturn\u001b[39;00m \u001b[38;5;28mself\u001b[39m\u001b[38;5;241m.\u001b[39m_Booster\n",
      "\u001b[1;31mNotFittedError\u001b[0m: need to call fit or load_model beforehand"
     ]
    }
   ],
   "source": [
    "y_pred_xgb = xgb_model.predict(X_test)\n",
    "print(\"=== XGBoost ===\")\n",
    "print(confusion_matrix(y_test, y_pred_xgb))\n",
    "print(classification_report(y_test, y_pred_xgb))\n",
    "print(\"ROC AUC XGB:\", roc_auc_score(y_test, xgb_model.predict_proba(X_test)[:, 1]))"
   ]
  },
  {
   "cell_type": "markdown",
   "id": "89701b05-37d7-4c6c-ba11-3668e1a012f2",
   "metadata": {},
   "source": [
    "XGBoost\n",
    "\n",
    "- Acurácia: 0.87\n",
    "\n",
    "- ROC AUC: 0.78\n",
    "\n",
    "- F1-Score: 0.47 para a classe 1"
   ]
  },
  {
   "cell_type": "markdown",
   "id": "5c251f66-b06f-4825-83f0-09ac80e58b42",
   "metadata": {},
   "source": [
    "### Optuna"
   ]
  },
  {
   "cell_type": "code",
   "execution_count": null,
   "id": "47830bdc-ea77-4f09-8b4f-017f12b2e2f0",
   "metadata": {
    "scrolled": true
   },
   "outputs": [
    {
     "ename": "NameError",
     "evalue": "name 'optuna' is not defined",
     "output_type": "error",
     "traceback": [
      "\u001b[1;31m---------------------------------------------------------------------------\u001b[0m",
      "\u001b[1;31mNameError\u001b[0m                                 Traceback (most recent call last)",
      "Cell \u001b[1;32mIn[14], line 26\u001b[0m\n\u001b[0;32m     22\u001b[0m     y_pred \u001b[38;5;241m=\u001b[39m model\u001b[38;5;241m.\u001b[39mpredict(X_test)\n\u001b[0;32m     24\u001b[0m     \u001b[38;5;28;01mreturn\u001b[39;00m f1_score(y_test, y_pred, pos_label\u001b[38;5;241m=\u001b[39m\u001b[38;5;241m1\u001b[39m)\n\u001b[1;32m---> 26\u001b[0m study \u001b[38;5;241m=\u001b[39m \u001b[43moptuna\u001b[49m\u001b[38;5;241m.\u001b[39mcreate_study(direction\u001b[38;5;241m=\u001b[39m\u001b[38;5;124m'\u001b[39m\u001b[38;5;124mmaximize\u001b[39m\u001b[38;5;124m'\u001b[39m)\n\u001b[0;32m     27\u001b[0m study\u001b[38;5;241m.\u001b[39moptimize(objective, n_trials\u001b[38;5;241m=\u001b[39m\u001b[38;5;241m50\u001b[39m, timeout\u001b[38;5;241m=\u001b[39m\u001b[38;5;241m600\u001b[39m) \n",
      "\u001b[1;31mNameError\u001b[0m: name 'optuna' is not defined"
     ]
    }
   ],
   "source": [
    "def objective(trial):\n",
    "    params = {\n",
    "        'n_estimators': trial.suggest_int('n_estimators', 100, 1000),\n",
    "        'max_depth': trial.suggest_int('max_depth', 3, 15),\n",
    "        'learning_rate': trial.suggest_float('learning_rate', 0.01, 0.3, log=True),\n",
    "        'subsample': trial.suggest_float('subsample', 0.5, 1.0),\n",
    "        'colsample_bytree': trial.suggest_float('colsample_bytree', 0.5, 1.0),\n",
    "        'gamma': trial.suggest_float('gamma', 0, 5),\n",
    "        'reg_alpha': trial.suggest_float('reg_alpha', 0, 5),\n",
    "        'reg_lambda': trial.suggest_float('reg_lambda', 0, 5)\n",
    "    }\n",
    "\n",
    "    model = XGBClassifier(\n",
    "        use_label_encoder=False,\n",
    "        eval_metric='logloss',\n",
    "        random_state=42,\n",
    "        **params\n",
    "    )\n",
    "\n",
    "    model.fit(X_train_resampled, y_train_resampled)\n",
    "\n",
    "    y_pred = model.predict(X_test)\n",
    "\n",
    "    return f1_score(y_test, y_pred, pos_label=1)\n",
    "\n",
    "study = optuna.create_study(direction='maximize')\n",
    "study.optimize(objective, n_trials=50, timeout=600) \n"
   ]
  },
  {
   "cell_type": "code",
   "execution_count": null,
   "id": "b448d0e0-1596-425f-afac-084316d2e93a",
   "metadata": {},
   "outputs": [
    {
     "name": "stdout",
     "output_type": "stream",
     "text": [
      "Melhores parâmetros:\n"
     ]
    },
    {
     "ename": "NameError",
     "evalue": "name 'study' is not defined",
     "output_type": "error",
     "traceback": [
      "\u001b[1;31m---------------------------------------------------------------------------\u001b[0m",
      "\u001b[1;31mNameError\u001b[0m                                 Traceback (most recent call last)",
      "Cell \u001b[1;32mIn[15], line 2\u001b[0m\n\u001b[0;32m      1\u001b[0m \u001b[38;5;28mprint\u001b[39m(\u001b[38;5;124m\"\u001b[39m\u001b[38;5;124mMelhores parâmetros:\u001b[39m\u001b[38;5;124m\"\u001b[39m)\n\u001b[1;32m----> 2\u001b[0m \u001b[38;5;28mprint\u001b[39m(\u001b[43mstudy\u001b[49m\u001b[38;5;241m.\u001b[39mbest_params)\n\u001b[0;32m      4\u001b[0m \u001b[38;5;28mprint\u001b[39m(\u001b[38;5;124m\"\u001b[39m\u001b[38;5;124mMelhor F1-score para classe 1:\u001b[39m\u001b[38;5;124m\"\u001b[39m)\n\u001b[0;32m      5\u001b[0m \u001b[38;5;28mprint\u001b[39m(study\u001b[38;5;241m.\u001b[39mbest_value)\n",
      "\u001b[1;31mNameError\u001b[0m: name 'study' is not defined"
     ]
    }
   ],
   "source": [
    "print(\"Melhores parâmetros:\")\n",
    "print(study.best_params)\n",
    "\n",
    "print(\"Melhor F1-score para classe 1:\")\n",
    "print(study.best_value)"
   ]
  },
  {
   "cell_type": "markdown",
   "id": "89134443-7e57-4df7-8fab-b86fb4828e45",
   "metadata": {},
   "source": [
    "Com esse contexto, um F1-score de 0.5714 indica que o modelo está razoavelmente equilibrado entre a precisão e o recall, mas ainda não é ótimo. Isso é um indicativo de que o modelo consegue identificar a demissão de um funcionário (classe 1) com alguma precisão, mas não de forma robusta o suficiente para ser considerado confiável em um cenário crítico."
   ]
  },
  {
   "cell_type": "markdown",
   "id": "6a643eb3-0354-416e-b853-3b9b565c66ff",
   "metadata": {},
   "source": [
    "### Melhorar F1-score"
   ]
  },
  {
   "cell_type": "code",
   "execution_count": null,
   "id": "ad6e6c26-dc95-42aa-82af-b424af06a9c1",
   "metadata": {},
   "outputs": [
    {
     "ename": "NameError",
     "evalue": "name 'study' is not defined",
     "output_type": "error",
     "traceback": [
      "\u001b[1;31m---------------------------------------------------------------------------\u001b[0m",
      "\u001b[1;31mNameError\u001b[0m                                 Traceback (most recent call last)",
      "Cell \u001b[1;32mIn[16], line 1\u001b[0m\n\u001b[1;32m----> 1\u001b[0m best_params \u001b[38;5;241m=\u001b[39m \u001b[43mstudy\u001b[49m\u001b[38;5;241m.\u001b[39mbest_params\n\u001b[0;32m      3\u001b[0m neg, pos \u001b[38;5;241m=\u001b[39m Counter(y_train_resampled)[\u001b[38;5;241m0\u001b[39m], Counter(y_train_resampled)[\u001b[38;5;241m1\u001b[39m]\n\u001b[0;32m      4\u001b[0m spw \u001b[38;5;241m=\u001b[39m neg \u001b[38;5;241m/\u001b[39m pos\n",
      "\u001b[1;31mNameError\u001b[0m: name 'study' is not defined"
     ]
    }
   ],
   "source": [
    "best_params = study.best_params\n",
    "\n",
    "neg, pos = Counter(y_train_resampled)[0], Counter(y_train_resampled)[1]\n",
    "spw = neg / pos\n",
    "\n",
    "xgb_final = XGBClassifier(\n",
    "    use_label_encoder=False,\n",
    "    eval_metric='logloss',\n",
    "    random_state=42,\n",
    "    scale_pos_weight=spw,\n",
    "    **best_params\n",
    ")\n",
    "\n",
    "xgb_final.fit(X_train_resampled, y_train_resampled)\n",
    "\n",
    "probs = xgb_final.predict_proba(X_test)[:, 1]\n",
    "\n",
    "thresholds = np.arange(0.1, 0.9, 0.01)\n",
    "\n",
    "results = []\n",
    "for t in thresholds:\n",
    "    preds = (probs >= t).astype(int)\n",
    "    precision, recall, f1, _ = precision_recall_fscore_support(y_test, preds, average='binary')\n",
    "    results.append((t, precision, recall, f1))\n",
    "\n",
    "th_df = pd.DataFrame(results, columns=['Threshold','Precision','Recall','F1'])\n",
    "\n",
    "best = th_df.loc[th_df['F1'].idxmax()]\n",
    "print(\"🎯 Melhor Threshold encontrado:\")\n",
    "print(best)\n"
   ]
  },
  {
   "cell_type": "code",
   "execution_count": null,
   "id": "9a8f0dc6-de72-4390-a538-2130f039c14d",
   "metadata": {},
   "outputs": [
    {
     "ename": "NameError",
     "evalue": "name 'y_train_resampled' is not defined",
     "output_type": "error",
     "traceback": [
      "\u001b[1;31m---------------------------------------------------------------------------\u001b[0m",
      "\u001b[1;31mNameError\u001b[0m                                 Traceback (most recent call last)",
      "Cell \u001b[1;32mIn[17], line 1\u001b[0m\n\u001b[1;32m----> 1\u001b[0m neg, pos \u001b[38;5;241m=\u001b[39m Counter(\u001b[43my_train_resampled\u001b[49m)[\u001b[38;5;241m0\u001b[39m], Counter(y_train_resampled)[\u001b[38;5;241m1\u001b[39m]\n\u001b[0;32m      2\u001b[0m spw \u001b[38;5;241m=\u001b[39m neg \u001b[38;5;241m/\u001b[39m pos\n\u001b[0;32m      4\u001b[0m xgb_final \u001b[38;5;241m=\u001b[39m XGBClassifier(\n\u001b[0;32m      5\u001b[0m     use_label_encoder\u001b[38;5;241m=\u001b[39m\u001b[38;5;28;01mFalse\u001b[39;00m, eval_metric\u001b[38;5;241m=\u001b[39m\u001b[38;5;124m'\u001b[39m\u001b[38;5;124mlogloss\u001b[39m\u001b[38;5;124m'\u001b[39m, random_state\u001b[38;5;241m=\u001b[39m\u001b[38;5;241m42\u001b[39m,\n\u001b[0;32m      6\u001b[0m     scale_pos_weight\u001b[38;5;241m=\u001b[39mspw,\n\u001b[0;32m      7\u001b[0m     \u001b[38;5;241m*\u001b[39m\u001b[38;5;241m*\u001b[39mstudy\u001b[38;5;241m.\u001b[39mbest_params\n\u001b[0;32m      8\u001b[0m )\n",
      "\u001b[1;31mNameError\u001b[0m: name 'y_train_resampled' is not defined"
     ]
    }
   ],
   "source": [
    "neg, pos = Counter(y_train_resampled)[0], Counter(y_train_resampled)[1]\n",
    "spw = neg / pos\n",
    "\n",
    "xgb_final = XGBClassifier(\n",
    "    use_label_encoder=False, eval_metric='logloss', random_state=42,\n",
    "    scale_pos_weight=spw,\n",
    "    **study.best_params\n",
    ")\n",
    "xgb_final.fit(X_train_resampled, y_train_resampled)\n",
    "\n",
    "from sklearn.model_selection import StratifiedKFold, cross_val_score\n",
    "\n",
    "cv = StratifiedKFold(n_splits=5, shuffle=True, random_state=42)\n",
    "scores = cross_val_score(\n",
    "    xgb_final,\n",
    "    X_train_resampled, y_train_resampled,\n",
    "    scoring='f1', cv=cv\n",
    ")\n",
    "print(\"F1 CV média:\", scores.mean())\n",
    "\n",
    "probs_final = xgb_final.predict_proba(X_test)[:, 1]\n",
    "preds_final = (probs_final >= 0.52).astype(int)\n",
    "\n",
    "from sklearn.metrics import classification_report\n",
    "print(classification_report(y_test, preds_final))\n"
   ]
  },
  {
   "cell_type": "markdown",
   "id": "2d31ddcf-600b-4235-8c46-066211943901",
   "metadata": {},
   "source": [
    "F1 médio no treino (CV): 0.92\n",
    "\n",
    "- F1 na classe 1 no teste: 0.61\n",
    "\n",
    "- Precision: 0.68\n",
    "\n",
    "- Recall: 0.55\n",
    "\n",
    "Interpretação:\n",
    "\n",
    "- O modelo tá aprendendo bem no treino (dados balanceados).\n",
    "\n",
    "- Mas no teste real, ainda sofre com recall (difícil prever quem sai da empresa).\n",
    "\n",
    "- Gap entre treino e teste sugere que o comportamento da classe 1 no teste é diferente ou escassa."
   ]
  },
  {
   "cell_type": "markdown",
   "id": "10970967-256f-475e-860f-584892386381",
   "metadata": {},
   "source": [
    "### SHAP (SHapley Additive exPlanations)"
   ]
  },
  {
   "cell_type": "code",
   "execution_count": null,
   "id": "19187ef3-d234-4ec5-8540-4f7892a3f9db",
   "metadata": {},
   "outputs": [
    {
     "ename": "NameError",
     "evalue": "name 'xgb_final' is not defined",
     "output_type": "error",
     "traceback": [
      "\u001b[1;31m---------------------------------------------------------------------------\u001b[0m",
      "\u001b[1;31mNameError\u001b[0m                                 Traceback (most recent call last)",
      "Cell \u001b[1;32mIn[18], line 1\u001b[0m\n\u001b[1;32m----> 1\u001b[0m explainer \u001b[38;5;241m=\u001b[39m shap\u001b[38;5;241m.\u001b[39mExplainer(\u001b[43mxgb_final\u001b[49m)\n\u001b[0;32m      3\u001b[0m shap_values \u001b[38;5;241m=\u001b[39m explainer(X_test)\n\u001b[0;32m      5\u001b[0m shap\u001b[38;5;241m.\u001b[39mplots\u001b[38;5;241m.\u001b[39mbeeswarm(shap_values)\n",
      "\u001b[1;31mNameError\u001b[0m: name 'xgb_final' is not defined"
     ]
    }
   ],
   "source": [
    "explainer = shap.Explainer(xgb_final)\n",
    "\n",
    "shap_values = explainer(X_test)\n",
    "\n",
    "shap.plots.beeswarm(shap_values)"
   ]
  },
  {
   "cell_type": "code",
   "execution_count": null,
   "id": "6534540d-6143-4a30-b9c2-93456c00f26b",
   "metadata": {},
   "outputs": [
    {
     "name": "stdout",
     "output_type": "stream",
     "text": [
      "36 ['Age', 'BusinessTravel', 'DailyRate', 'Department', 'DistanceFromHome', 'Education', 'EducationField', 'EmployeeCount', 'EmployeeNumber', 'EnvironmentSatisfaction', 'Gender', 'HourlyRate', 'JobInvolvement', 'JobLevel', 'JobRole', 'JobSatisfaction', 'MaritalStatus', 'MonthlyIncome', 'MonthlyRate', 'NumCompaniesWorked', 'Over18', 'OverTime', 'PercentSalaryHike', 'PerformanceRating', 'RelationshipSatisfaction', 'StandardHours', 'StockOptionLevel', 'TotalWorkingYears', 'TrainingTimesLastYear', 'WorkLifeBalance', 'YearsAtCompany', 'YearsInCurrentRole', 'YearsSinceLastPromotion', 'YearsWithCurrManager', 'MonthlyIncome_log', 'TotalWorkingYears_log']\n"
     ]
    },
    {
     "ename": "KeyError",
     "evalue": "\"['BusinessTravel', 'Department', 'EducationField', 'EmployeeCount', 'JobRole', 'MaritalStatus', 'Over18', 'OverTime', 'StandardHours'] not in index\"",
     "output_type": "error",
     "traceback": [
      "\u001b[1;31m---------------------------------------------------------------------------\u001b[0m",
      "\u001b[1;31mKeyError\u001b[0m                                  Traceback (most recent call last)",
      "Cell \u001b[1;32mIn[19], line 56\u001b[0m\n\u001b[0;32m      4\u001b[0m new_row \u001b[38;5;241m=\u001b[39m \u001b[38;5;28mdict\u001b[39m\u001b[38;5;241m.\u001b[39mfromkeys(feature_names, \u001b[38;5;241m0\u001b[39m)\n\u001b[0;32m      6\u001b[0m X_new \u001b[38;5;241m=\u001b[39m pd\u001b[38;5;241m.\u001b[39mDataFrame([{\n\u001b[0;32m      7\u001b[0m     \u001b[38;5;124m'\u001b[39m\u001b[38;5;124mAge\u001b[39m\u001b[38;5;124m'\u001b[39m: \u001b[38;5;241m32\u001b[39m,\n\u001b[0;32m      8\u001b[0m     \u001b[38;5;124m'\u001b[39m\u001b[38;5;124mDailyRate\u001b[39m\u001b[38;5;124m'\u001b[39m: \u001b[38;5;241m800\u001b[39m,\n\u001b[1;32m   (...)\u001b[0m\n\u001b[0;32m     53\u001b[0m     \u001b[38;5;124m'\u001b[39m\u001b[38;5;124mOverTime_Yes\u001b[39m\u001b[38;5;124m'\u001b[39m: \u001b[38;5;241m0\u001b[39m\n\u001b[0;32m     54\u001b[0m }])\n\u001b[1;32m---> 56\u001b[0m X_new \u001b[38;5;241m=\u001b[39m \u001b[43mX_new\u001b[49m\u001b[43m[\u001b[49m\u001b[43mfeature_names\u001b[49m\u001b[43m]\u001b[49m\n\u001b[0;32m     58\u001b[0m xgb_loaded \u001b[38;5;241m=\u001b[39m joblib\u001b[38;5;241m.\u001b[39mload(\u001b[38;5;124m'\u001b[39m\u001b[38;5;124mmodels/xgb_attrition_final.pkl\u001b[39m\u001b[38;5;124m'\u001b[39m)\n\u001b[0;32m     59\u001b[0m threshold_loaded \u001b[38;5;241m=\u001b[39m joblib\u001b[38;5;241m.\u001b[39mload(\u001b[38;5;124m'\u001b[39m\u001b[38;5;124mmodels/threshold_optimizado.pkl\u001b[39m\u001b[38;5;124m'\u001b[39m)\n",
      "File \u001b[1;32m~\\Documents\\employee_attrition_project\\.venv\\lib\\site-packages\\pandas\\core\\frame.py:4108\u001b[0m, in \u001b[0;36mDataFrame.__getitem__\u001b[1;34m(self, key)\u001b[0m\n\u001b[0;32m   4106\u001b[0m     \u001b[38;5;28;01mif\u001b[39;00m is_iterator(key):\n\u001b[0;32m   4107\u001b[0m         key \u001b[38;5;241m=\u001b[39m \u001b[38;5;28mlist\u001b[39m(key)\n\u001b[1;32m-> 4108\u001b[0m     indexer \u001b[38;5;241m=\u001b[39m \u001b[38;5;28;43mself\u001b[39;49m\u001b[38;5;241;43m.\u001b[39;49m\u001b[43mcolumns\u001b[49m\u001b[38;5;241;43m.\u001b[39;49m\u001b[43m_get_indexer_strict\u001b[49m\u001b[43m(\u001b[49m\u001b[43mkey\u001b[49m\u001b[43m,\u001b[49m\u001b[43m \u001b[49m\u001b[38;5;124;43m\"\u001b[39;49m\u001b[38;5;124;43mcolumns\u001b[39;49m\u001b[38;5;124;43m\"\u001b[39;49m\u001b[43m)\u001b[49m[\u001b[38;5;241m1\u001b[39m]\n\u001b[0;32m   4110\u001b[0m \u001b[38;5;66;03m# take() does not accept boolean indexers\u001b[39;00m\n\u001b[0;32m   4111\u001b[0m \u001b[38;5;28;01mif\u001b[39;00m \u001b[38;5;28mgetattr\u001b[39m(indexer, \u001b[38;5;124m\"\u001b[39m\u001b[38;5;124mdtype\u001b[39m\u001b[38;5;124m\"\u001b[39m, \u001b[38;5;28;01mNone\u001b[39;00m) \u001b[38;5;241m==\u001b[39m \u001b[38;5;28mbool\u001b[39m:\n",
      "File \u001b[1;32m~\\Documents\\employee_attrition_project\\.venv\\lib\\site-packages\\pandas\\core\\indexes\\base.py:6200\u001b[0m, in \u001b[0;36mIndex._get_indexer_strict\u001b[1;34m(self, key, axis_name)\u001b[0m\n\u001b[0;32m   6197\u001b[0m \u001b[38;5;28;01melse\u001b[39;00m:\n\u001b[0;32m   6198\u001b[0m     keyarr, indexer, new_indexer \u001b[38;5;241m=\u001b[39m \u001b[38;5;28mself\u001b[39m\u001b[38;5;241m.\u001b[39m_reindex_non_unique(keyarr)\n\u001b[1;32m-> 6200\u001b[0m \u001b[38;5;28;43mself\u001b[39;49m\u001b[38;5;241;43m.\u001b[39;49m\u001b[43m_raise_if_missing\u001b[49m\u001b[43m(\u001b[49m\u001b[43mkeyarr\u001b[49m\u001b[43m,\u001b[49m\u001b[43m \u001b[49m\u001b[43mindexer\u001b[49m\u001b[43m,\u001b[49m\u001b[43m \u001b[49m\u001b[43maxis_name\u001b[49m\u001b[43m)\u001b[49m\n\u001b[0;32m   6202\u001b[0m keyarr \u001b[38;5;241m=\u001b[39m \u001b[38;5;28mself\u001b[39m\u001b[38;5;241m.\u001b[39mtake(indexer)\n\u001b[0;32m   6203\u001b[0m \u001b[38;5;28;01mif\u001b[39;00m \u001b[38;5;28misinstance\u001b[39m(key, Index):\n\u001b[0;32m   6204\u001b[0m     \u001b[38;5;66;03m# GH 42790 - Preserve name from an Index\u001b[39;00m\n",
      "File \u001b[1;32m~\\Documents\\employee_attrition_project\\.venv\\lib\\site-packages\\pandas\\core\\indexes\\base.py:6252\u001b[0m, in \u001b[0;36mIndex._raise_if_missing\u001b[1;34m(self, key, indexer, axis_name)\u001b[0m\n\u001b[0;32m   6249\u001b[0m     \u001b[38;5;28;01mraise\u001b[39;00m \u001b[38;5;167;01mKeyError\u001b[39;00m(\u001b[38;5;124mf\u001b[39m\u001b[38;5;124m\"\u001b[39m\u001b[38;5;124mNone of [\u001b[39m\u001b[38;5;132;01m{\u001b[39;00mkey\u001b[38;5;132;01m}\u001b[39;00m\u001b[38;5;124m] are in the [\u001b[39m\u001b[38;5;132;01m{\u001b[39;00maxis_name\u001b[38;5;132;01m}\u001b[39;00m\u001b[38;5;124m]\u001b[39m\u001b[38;5;124m\"\u001b[39m)\n\u001b[0;32m   6251\u001b[0m not_found \u001b[38;5;241m=\u001b[39m \u001b[38;5;28mlist\u001b[39m(ensure_index(key)[missing_mask\u001b[38;5;241m.\u001b[39mnonzero()[\u001b[38;5;241m0\u001b[39m]]\u001b[38;5;241m.\u001b[39munique())\n\u001b[1;32m-> 6252\u001b[0m \u001b[38;5;28;01mraise\u001b[39;00m \u001b[38;5;167;01mKeyError\u001b[39;00m(\u001b[38;5;124mf\u001b[39m\u001b[38;5;124m\"\u001b[39m\u001b[38;5;132;01m{\u001b[39;00mnot_found\u001b[38;5;132;01m}\u001b[39;00m\u001b[38;5;124m not in index\u001b[39m\u001b[38;5;124m\"\u001b[39m)\n",
      "\u001b[1;31mKeyError\u001b[0m: \"['BusinessTravel', 'Department', 'EducationField', 'EmployeeCount', 'JobRole', 'MaritalStatus', 'Over18', 'OverTime', 'StandardHours'] not in index\""
     ]
    }
   ],
   "source": [
    "feature_names = X_train.columns.tolist()\n",
    "print(len(feature_names), feature_names)\n",
    "\n",
    "new_row = dict.fromkeys(feature_names, 0)\n",
    "\n",
    "X_new = pd.DataFrame([{\n",
    "    'Age': 32,\n",
    "    'DailyRate': 800,\n",
    "    'DistanceFromHome': 10,\n",
    "    'Education': 3,\n",
    "    'EmployeeNumber': 9999,\n",
    "    'EnvironmentSatisfaction': 4,\n",
    "    'Gender': 1,\n",
    "    'HourlyRate': 60,\n",
    "    'JobInvolvement': 3,\n",
    "    'JobLevel': 2,\n",
    "    'JobSatisfaction': 3,\n",
    "    'MonthlyIncome': 4500,\n",
    "    'MonthlyRate': 20000,\n",
    "    'NumCompaniesWorked': 2,\n",
    "    'PercentSalaryHike': 15,\n",
    "    'PerformanceRating': 3,\n",
    "    'RelationshipSatisfaction': 2,\n",
    "    'StockOptionLevel': 0,\n",
    "    'TotalWorkingYears': 8,\n",
    "    'TrainingTimesLastYear': 2,\n",
    "    'WorkLifeBalance': 3,\n",
    "    'YearsAtCompany': 5,\n",
    "    'YearsInCurrentRole': 2,\n",
    "    'YearsSinceLastPromotion': 1,\n",
    "    'YearsWithCurrManager': 3,\n",
    "    'MonthlyIncome_log': np.log1p(4500),\n",
    "    'TotalWorkingYears_log': np.log1p(8),\n",
    "    'BusinessTravel_Travel_Frequently': 0,\n",
    "    'BusinessTravel_Travel_Rarely': 1,\n",
    "    'Department_Research & Development': 1,\n",
    "    'Department_Sales': 0,\n",
    "    'EducationField_Life Sciences': 0,\n",
    "    'EducationField_Marketing': 0,\n",
    "    'EducationField_Medical': 1,\n",
    "    'EducationField_Other': 0,\n",
    "    'EducationField_Technical Degree': 0,\n",
    "    'JobRole_Human Resources': 0,\n",
    "    'JobRole_Laboratory Technician': 0,\n",
    "    'JobRole_Manager': 1,\n",
    "    'JobRole_Manufacturing Director': 0,\n",
    "    'JobRole_Research Director': 0,\n",
    "    'JobRole_Research Scientist': 0,\n",
    "    'JobRole_Sales Executive': 0,\n",
    "    'JobRole_Sales Representative': 0,\n",
    "    'MaritalStatus_Married': 1,\n",
    "    'MaritalStatus_Single': 0,\n",
    "    'OverTime_Yes': 0\n",
    "}])\n",
    "\n",
    "X_new = X_new[feature_names]\n",
    "\n",
    "xgb_loaded = joblib.load('models/xgb_attrition_final.pkl')\n",
    "threshold_loaded = joblib.load('models/threshold_optimizado.pkl')\n",
    "\n",
    "probs_new = xgb_loaded.predict_proba(X_new)[:, 1]\n",
    "pred_new  = (probs_new >= threshold_loaded).astype(int)\n",
    "\n",
    "print(f\"Prob. de saída: {probs_new[0]:.4f}\")\n",
    "print(f\"Predição final: {pred_new[0]}  (1=sai, 0=fica)\")\n"
   ]
  },
  {
   "cell_type": "markdown",
   "id": "c3f8768f-cff2-43a2-b0ce-03ecbfbcc2d9",
   "metadata": {},
   "source": [
    "Prob. de saída: 0.0116\n",
    "\n",
    "(1=sai, 0=fica)\n",
    "Predição final: 0 "
   ]
  },
  {
   "cell_type": "code",
   "execution_count": null,
   "id": "1c5f3d1f-a903-48ed-8522-fe19d6b2790a",
   "metadata": {},
   "outputs": [],
   "source": []
  }
 ],
 "metadata": {
  "kernelspec": {
   "display_name": ".venv",
   "language": "python",
   "name": "python3"
  },
  "language_info": {
   "codemirror_mode": {
    "name": "ipython",
    "version": 3
   },
   "file_extension": ".py",
   "mimetype": "text/x-python",
   "name": "python",
   "nbconvert_exporter": "python",
   "pygments_lexer": "ipython3",
   "version": "3.10.11"
  }
 },
 "nbformat": 4,
 "nbformat_minor": 5
}
